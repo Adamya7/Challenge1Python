{
  "nbformat": 4,
  "nbformat_minor": 0,
  "metadata": {
    "colab": {
      "provenance": [],
      "authorship_tag": "ABX9TyP0I71XEqZaqqAKME4cp4Jf",
      "include_colab_link": true
    },
    "kernelspec": {
      "name": "python3",
      "display_name": "Python 3"
    },
    "language_info": {
      "name": "python"
    }
  },
  "cells": [
    {
      "cell_type": "markdown",
      "metadata": {
        "id": "view-in-github",
        "colab_type": "text"
      },
      "source": [
        "<a href=\"https://colab.research.google.com/github/Adamya7/Challenge1Python/blob/main/ChallengeQuestion1.ipynb\" target=\"_parent\"><img src=\"https://colab.research.google.com/assets/colab-badge.svg\" alt=\"Open In Colab\"/></a>"
      ]
    },
    {
      "cell_type": "code",
      "execution_count": null,
      "metadata": {
        "colab": {
          "base_uri": "https://localhost:8080/"
        },
        "id": "Gh2v0A2iCEtJ",
        "outputId": "6f622a1b-a6e8-4d0c-d676-54c979adacdb"
      },
      "outputs": [
        {
          "output_type": "stream",
          "name": "stdout",
          "text": [
            "\n",
            "Sorted List is: [7, 10, 25, 38, 'Ajay', 'Arjun', 'Ram', 'Sita']\n"
          ]
        }
      ],
      "source": [
        "L = [\"Ram\",7,'Sita',10]\n",
        "Lint = []\n",
        "Lstr = []\n",
        "\n",
        "for i in range(0,4):\n",
        "  if(type(L[i])==int):\n",
        "    Lint.append(L[i])\n",
        "  elif(type(L[i])==str):\n",
        "    Lstr.append(L[i])\n",
        "  else:\n",
        "    break\n",
        "\n",
        "Lint.sort()\n",
        "Lstr.sort()\n",
        "L = Lint + Lstr\n",
        "print(\"\\nSorted List is:\",L)"
      ]
    }
  ]
}